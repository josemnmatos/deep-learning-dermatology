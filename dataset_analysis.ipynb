{
 "cells": [
  {
   "cell_type": "code",
   "execution_count": 1,
   "metadata": {},
   "outputs": [
    {
     "name": "stdout",
     "output_type": "stream",
     "text": [
      "MedMNIST v3.0.2 @ https://github.com/MedMNIST/MedMNIST/\n",
      "Using downloaded and verified file: C:\\Users\\josem\\.medmnist\\dermamnist.npz\n",
      "Using downloaded and verified file: C:\\Users\\josem\\.medmnist\\dermamnist.npz\n",
      "Using downloaded and verified file: C:\\Users\\josem\\.medmnist\\dermamnist.npz\n",
      "Using downloaded and verified file: C:\\Users\\josem\\.medmnist\\dermamnist.npz\n"
     ]
    }
   ],
   "source": [
    "from helper_methods import get_data_loaders\n",
    "\n",
    "\n",
    "(\n",
    "    train_loader,\n",
    "    train_loader_at_eval,\n",
    "    test_loader,\n",
    "    validation_loader,\n",
    "    n_channels,\n",
    "    n_classes,\n",
    "    task,\n",
    "    pil_dataset,\n",
    ") = get_data_loaders()"
   ]
  },
  {
   "cell_type": "code",
   "execution_count": 10,
   "metadata": {},
   "outputs": [
    {
     "name": "stdout",
     "output_type": "stream",
     "text": [
      "Number of instances per class in the training set:\n",
      "Actinic keratoses and intraepithelial carcinoma: 327\n",
      "Basal cell carcinoma: 514\n",
      "Benign keratosis-like lesions: 1099\n",
      "Dermatofibroma: 115\n",
      "Melanoma: 1113\n",
      "Melanocytic nevi: 6705\n",
      "Vascular lesions: 142\n",
      "Total number of instances in the training set: 10015\n",
      "Number of classes: 7\n"
     ]
    }
   ],
   "source": [
    "# get number of instances per class in the training set\n",
    "\n",
    "class_labels = {\n",
    "    0: \"Actinic keratoses and intraepithelial carcinoma\",\n",
    "    1: \"Basal cell carcinoma\",\n",
    "    2: \"Benign keratosis-like lesions\",\n",
    "    3: \"Dermatofibroma\",\n",
    "    4: \"Melanoma\",\n",
    "    5: \"Melanocytic nevi\",\n",
    "    6: \"Vascular lesions\"\n",
    "}\n",
    "\n",
    "n_instances_per_class = [0] * n_classes\n",
    "for _, labels in train_loader:\n",
    "    for label in labels:\n",
    "        n_instances_per_class[label] += 1\n",
    "\n",
    "for _, labels in test_loader:\n",
    "    for label in labels:\n",
    "        n_instances_per_class[label] += 1\n",
    "\n",
    "for _, labels in validation_loader:\n",
    "    for label in labels:\n",
    "        n_instances_per_class[label] += 1\n",
    "\n",
    "print(\"Number of instances per class in the training set:\")\n",
    "for i in range(n_classes):\n",
    "    print(f\"{class_labels[i]}: {n_instances_per_class[i]}\")\n",
    "\n",
    "print(f\"Total number of instances in the training set: {sum(n_instances_per_class)}\")\n",
    "print(f\"Number of classes: {n_classes}\")\n",
    "\n",
    "\n",
    "\n"
   ]
  },
  {
   "cell_type": "code",
   "execution_count": null,
   "metadata": {},
   "outputs": [],
   "source": []
  }
 ],
 "metadata": {
  "kernelspec": {
   "display_name": "cuda",
   "language": "python",
   "name": "python3"
  },
  "language_info": {
   "codemirror_mode": {
    "name": "ipython",
    "version": 3
   },
   "file_extension": ".py",
   "mimetype": "text/x-python",
   "name": "python",
   "nbconvert_exporter": "python",
   "pygments_lexer": "ipython3",
   "version": "3.12.3"
  }
 },
 "nbformat": 4,
 "nbformat_minor": 2
}
